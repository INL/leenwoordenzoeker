{
 "cells": [
  {
   "cell_type": "code",
   "execution_count": null,
   "metadata": {},
   "outputs": [],
   "source": [
    "from IPython.core.display import display, HTML\n",
    "\n",
    "from leenwoordenzoekertei import LoanWordStats\n",
    "\n",
    "import matplotlib.pyplot as plt\n",
    "\n",
    "def show(x):\n",
    "    display(HTML(x.reportHTML()))\n",
    "\n",
    "    \n",
    "    \n",
    "def pie_with_labels(x):\n",
    "   rest = x.number_of_words - x.number_of_loanwords\n",
    "   #labels = ['Nederlands']\n",
    "   #sizes = [rest]\n",
    "   labels = []\n",
    "   sizes = []\n",
    "   for  language in x.language_stats:\n",
    "      (language_hits, hits_unique)  = x.language_stats[language]\n",
    "      labels.append(language)\n",
    "      sizes.append(language_hits)\n",
    "   \n",
    "   plt.pie(sizes,  labels=labels, \n",
    "        autopct='%1.1f%%', shadow=True, startangle=140)\n",
    "   plt.axis('equal')\n",
    "   plt.show()\n",
    "\n",
    "def pie(x):\n",
    "    labels = []\n",
    "    sizes = []\n",
    "    for  language in x.language_stats:\n",
    "      (language_hits, hits_unique)  = x.language_stats[language]\n",
    "      labels.append(language)\n",
    "      sizes.append(language_hits)\n",
    "    \n",
    "    patches, texts = plt.pie(sizes, startangle=90, radius=1.2)\n",
    "    legend_labels = labels = ['{0} - {1}'.format(i,j) for i,j in zip(labels, sizes)]\n",
    "\n",
    "    sort_legend = True\n",
    "    if sort_legend:\n",
    "        patches, legend_labels, dummy =  zip(*sorted(zip(patches, legend_labels, sizes),\n",
    "                                          key=lambda x: x[2],\n",
    "                                          reverse=True))\n",
    "\n",
    "    plt.legend(patches, legend_labels, loc='best', bbox_to_anchor=(-0.1, 1.),\n",
    "           fontsize=8)\n",
    "    plt.show()\n",
    "    # plt.savefig('piechart.png', bbox_inches='tight')\n",
    "     \n",
    "    \n",
    "lwFinder = LoanWordStats('leenwoord_data.tsv')\n",
    "\n",
    "def do(x):\n",
    "    lwFinder.find(x)\n",
    "    pie(lwFinder)\n",
    "    show(lwFinder)\n",
    "    \n",
    "from IPython.display import display\n",
    "from ipyupload import FileUpload\n",
    "\n",
    "uploader = \"\"\n",
    "def uploadFile():\n",
    "    global uploader\n",
    "    uploader = FileUpload(\n",
    "        # https://developer.mozilla.org/en-US/docs/Web/HTML/Element/input#attr-accept\n",
    "        # eg. '.txt', '.pdf', 'image/*', 'image/*,.pdf'\n",
    "        accept='', # default\n",
    "        # True to accept multiple files upload else False\n",
    "        multiple=False, # default\n",
    "        # True to disable the button else False to enable it\n",
    "        disabled=False, # default\n",
    "        # CSS transparently passed to button (a button element overlays the input[type=file] element for better styling)\n",
    "        # e.g. 'color: darkblue; background-color: lightsalmon; width: 180px;'\n",
    "        style_button='' # default\n",
    "        # to compress data from browser to kernel\n",
    "        # compress level from 1 to 9 incl. - 0 for no compression\n",
    "        )\n",
    "    display(uploader)\n",
    "\n",
    "def processUpload():\n",
    "    global uploader\n",
    "    contents = uploader.value[list(uploader.value.keys())[0]]['content'].decode(\"utf-8\") \n",
    "    lwFinder.findFromString(contents)\n",
    "    pie(lwFinder)\n",
    "    show(lwFinder)"
   ]
  },
  {
   "cell_type": "code",
   "execution_count": null,
   "metadata": {
    "scrolled": true
   },
   "outputs": [],
   "source": [
    "uploadFile()"
   ]
  },
  {
   "cell_type": "code",
   "execution_count": null,
   "metadata": {},
   "outputs": [],
   "source": [
    "list(uploader.value.keys())"
   ]
  },
  {
   "cell_type": "code",
   "execution_count": null,
   "metadata": {},
   "outputs": [],
   "source": [
    "processUpload()"
   ]
  },
  {
   "cell_type": "code",
   "execution_count": null,
   "metadata": {},
   "outputs": [],
   "source": [
    "lwFinder.find('zouden er a priori leenwoorden actief zijn? meneer de doerak? Interessante parvenu.')"
   ]
  },
  {
   "cell_type": "code",
   "execution_count": null,
   "metadata": {},
   "outputs": [],
   "source": [
    "pie_with_labels(lwFinder)"
   ]
  },
  {
   "cell_type": "code",
   "execution_count": null,
   "metadata": {
    "scrolled": true
   },
   "outputs": [],
   "source": [
    "pie(lwFinder)"
   ]
  },
  {
   "cell_type": "code",
   "execution_count": null,
   "metadata": {},
   "outputs": [],
   "source": [
    "do('http://www.telegraaf.nl')"
   ]
  },
  {
   "cell_type": "code",
   "execution_count": null,
   "metadata": {},
   "outputs": [],
   "source": []
  }
 ],
 "metadata": {
  "kernelspec": {
   "display_name": "Python 3",
   "language": "python",
   "name": "python3"
  },
  "language_info": {
   "codemirror_mode": {
    "name": "ipython",
    "version": 3
   },
   "file_extension": ".py",
   "mimetype": "text/x-python",
   "name": "python",
   "nbconvert_exporter": "python",
   "pygments_lexer": "ipython3",
   "version": "3.5.2"
  }
 },
 "nbformat": 4,
 "nbformat_minor": 2
}
